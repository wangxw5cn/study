{
 "cells": [
  {
   "cell_type": "code",
   "execution_count": 1,
   "metadata": {},
   "outputs": [],
   "source": [
    "class TradeData:\n",
    "    symbol = \"\"\n",
    "    datetime = \"\"\n",
    "    direction = \"\"\n",
    "    price = 0.0\n",
    "    volume = 0.0"
   ]
  },
  {
   "cell_type": "code",
   "execution_count": 7,
   "metadata": {},
   "outputs": [
    {
     "name": "stdout",
     "output_type": "stream",
     "text": [
      "<class '__main__.TradeData'>\n"
     ]
    }
   ],
   "source": [
    "print(TradeData)"
   ]
  },
  {
   "cell_type": "code",
   "execution_count": 3,
   "metadata": {},
   "outputs": [],
   "source": [
    "# 创建对象\n",
    "trade = TradeData()"
   ]
  },
  {
   "cell_type": "code",
   "execution_count": 5,
   "metadata": {},
   "outputs": [],
   "source": [
    "# 字段赋值\n",
    "trade.symbol = \"IF2010\"\n",
    "trade.datetime = \"20200915 13:15:03\"\n",
    "trade.diretion = \"买入\"\n",
    "trade.price = 4200\n",
    "trade.volume = 1"
   ]
  },
  {
   "cell_type": "code",
   "execution_count": 8,
   "metadata": {},
   "outputs": [
    {
     "name": "stdout",
     "output_type": "stream",
     "text": [
      "<class '__main__.TradeData'>\n"
     ]
    }
   ],
   "source": [
    "# 查看类型\n",
    "print(type(trade))"
   ]
  },
  {
   "cell_type": "code",
   "execution_count": 12,
   "metadata": {},
   "outputs": [
    {
     "name": "stdout",
     "output_type": "stream",
     "text": [
      "1260000\n"
     ]
    }
   ],
   "source": [
    "# 访问数据\n",
    "trading_value = trade.price * trade.volume * 300\n",
    "print(trading_value)"
   ]
  },
  {
   "cell_type": "code",
   "execution_count": 13,
   "metadata": {},
   "outputs": [
    {
     "name": "stdout",
     "output_type": "stream",
     "text": [
      "1260000\n"
     ]
    }
   ],
   "source": [
    "# 字典概念类比\n",
    "td = {\n",
    "    \"symbol\": \"IF2010\",\n",
    "    \"datetime\": \"20200915 13:15:03\",\n",
    "    \"direction\": \"买入\",\n",
    "    \"price\": 4200,\n",
    "    \"volume\": 1,\n",
    "}\n",
    "td_value = td[\"price\"] * td[\"volume\"] * 300\n",
    "print(td_value)"
   ]
  },
  {
   "cell_type": "code",
   "execution_count": 14,
   "metadata": {},
   "outputs": [
    {
     "data": {
      "text/plain": [
       "{'symbol': 'IF2010',\n",
       " 'datetime': '20200915 13:15:03',\n",
       " 'diretion': '买入',\n",
       " 'price': 4200,\n",
       " 'volume': 1}"
      ]
     },
     "execution_count": 14,
     "metadata": {},
     "output_type": "execute_result"
    }
   ],
   "source": [
    "trade.__dict__"
   ]
  },
  {
   "cell_type": "code",
   "execution_count": 16,
   "metadata": {},
   "outputs": [
    {
     "data": {
      "text/plain": [
       "{'symbol': 'IF2010',\n",
       " 'datetime': '20200915 13:15:03',\n",
       " 'direction': '买入',\n",
       " 'price': 4200,\n",
       " 'volume': 1}"
      ]
     },
     "execution_count": 16,
     "metadata": {},
     "output_type": "execute_result"
    }
   ],
   "source": [
    "td"
   ]
  },
  {
   "cell_type": "code",
   "execution_count": null,
   "metadata": {},
   "outputs": [],
   "source": []
  }
 ],
 "metadata": {
  "kernelspec": {
   "display_name": "Python 3",
   "language": "python",
   "name": "python3"
  },
  "language_info": {
   "codemirror_mode": {
    "name": "ipython",
    "version": 3
   },
   "file_extension": ".py",
   "mimetype": "text/x-python",
   "name": "python",
   "nbconvert_exporter": "python",
   "pygments_lexer": "ipython3",
   "version": "3.7.1"
  }
 },
 "nbformat": 4,
 "nbformat_minor": 4
}
