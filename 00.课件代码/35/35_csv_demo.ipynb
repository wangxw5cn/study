{
 "cells": [
  {
   "cell_type": "code",
   "execution_count": 1,
   "metadata": {},
   "outputs": [],
   "source": [
    "import csv"
   ]
  },
  {
   "cell_type": "code",
   "execution_count": 2,
   "metadata": {},
   "outputs": [],
   "source": [
    "with open(\"test1.csv\", \"w\", newline=\"\") as f:\n",
    "    writer = csv.writer(f)\n",
    "    \n",
    "    writer.writerow([\"symbol\", \"date\", \"close\"])\n",
    "    writer.writerow([\"rb2101\", \"20200907\", \"3736\"])\n",
    "    writer.writerow([\"rb2101\", \"20200908\", \"3719\"])\n",
    "    writer.writerow([\"rb2101\", \"20200909\", \"3658\"])"
   ]
  },
  {
   "cell_type": "code",
   "execution_count": 5,
   "metadata": {},
   "outputs": [],
   "source": [
    "with open(\"test2.csv\", \"w\", newline=\"\") as f:\n",
    "    writer = csv.DictWriter(f, fieldnames=[\"symbol\", \"date\", \"close\"])\n",
    "    writer.writeheader()\n",
    "    \n",
    "    data = [\n",
    "        {\n",
    "            \"symbol\": \"rb2101\",\n",
    "            \"date\": \"20200907\",\n",
    "            \"close\": \"3736\",\n",
    "        },\n",
    "        {\n",
    "            \"symbol\": \"rb2101\",\n",
    "            \"date\": \"20200908\",\n",
    "            \"close\": \"3719\",\n",
    "        },\n",
    "        {\n",
    "            \"symbol\": \"rb2101\",\n",
    "            \"date\": \"20200909\",\n",
    "            \"close\": \"3658\",\n",
    "        },\n",
    "    ]\n",
    "    \n",
    "    for d in data:\n",
    "        writer.writerow(d)"
   ]
  },
  {
   "cell_type": "code",
   "execution_count": 9,
   "metadata": {},
   "outputs": [
    {
     "name": "stdout",
     "output_type": "stream",
     "text": [
      "rb2101 20200907 3736\n",
      "rb2101 20200908 3719\n",
      "rb2101 20200909 3658\n"
     ]
    }
   ],
   "source": [
    "with open(\"test2.csv\", \"r\") as f:\n",
    "    reader = csv.DictReader(f)\n",
    "    for row in reader:\n",
    "        print(row[\"symbol\"], row[\"date\"], row[\"close\"])"
   ]
  },
  {
   "cell_type": "code",
   "execution_count": null,
   "metadata": {},
   "outputs": [],
   "source": []
  }
 ],
 "metadata": {
  "kernelspec": {
   "display_name": "Python 3",
   "language": "python",
   "name": "python3"
  },
  "language_info": {
   "codemirror_mode": {
    "name": "ipython",
    "version": 3
   },
   "file_extension": ".py",
   "mimetype": "text/x-python",
   "name": "python",
   "nbconvert_exporter": "python",
   "pygments_lexer": "ipython3",
   "version": "3.7.1"
  }
 },
 "nbformat": 4,
 "nbformat_minor": 4
}
