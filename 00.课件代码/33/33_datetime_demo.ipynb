{
 "cells": [
  {
   "cell_type": "code",
   "execution_count": 1,
   "metadata": {},
   "outputs": [],
   "source": [
    "from datetime import date, time, datetime, timedelta"
   ]
  },
  {
   "cell_type": "code",
   "execution_count": 2,
   "metadata": {},
   "outputs": [
    {
     "name": "stdout",
     "output_type": "stream",
     "text": [
      "2020-09-29 09:12:55.148676 <class 'datetime.datetime'>\n"
     ]
    }
   ],
   "source": [
    "# 获取当前时间\n",
    "current_dt = datetime.now()\n",
    "print(current_dt, type(current_dt))"
   ]
  },
  {
   "cell_type": "code",
   "execution_count": 3,
   "metadata": {},
   "outputs": [
    {
     "name": "stdout",
     "output_type": "stream",
     "text": [
      "2020-09-29 <class 'datetime.date'>\n"
     ]
    }
   ],
   "source": [
    "# 转换为日期\n",
    "current_date = current_dt.date()\n",
    "print(current_date, type(current_date))"
   ]
  },
  {
   "cell_type": "code",
   "execution_count": 4,
   "metadata": {},
   "outputs": [
    {
     "name": "stdout",
     "output_type": "stream",
     "text": [
      "09:12:55.148676 <class 'datetime.time'>\n"
     ]
    }
   ],
   "source": [
    "# 转换为时间\n",
    "current_time = current_dt.time()\n",
    "print(current_time, type(current_time))"
   ]
  },
  {
   "cell_type": "code",
   "execution_count": 5,
   "metadata": {},
   "outputs": [
    {
     "name": "stdout",
     "output_type": "stream",
     "text": [
      "执行正常交易操作\n"
     ]
    }
   ],
   "source": [
    "end_time = time(14, 55)\n",
    "if current_time >= end_time:\n",
    "    print(\"该执行平仓操作\")\n",
    "else:\n",
    "    print(\"执行正常交易操作\")"
   ]
  },
  {
   "cell_type": "code",
   "execution_count": 14,
   "metadata": {},
   "outputs": [
    {
     "name": "stdout",
     "output_type": "stream",
     "text": [
      "2020-10-28 00:00:00\n"
     ]
    }
   ],
   "source": [
    "# 创建自定义时间\n",
    "option_expiry = datetime(2020, 10, 28)\n",
    "print(option_expiry)"
   ]
  },
  {
   "cell_type": "code",
   "execution_count": 15,
   "metadata": {},
   "outputs": [
    {
     "name": "stdout",
     "output_type": "stream",
     "text": [
      "28 days, 14:47:04.851324 <class 'datetime.timedelta'>\n"
     ]
    }
   ],
   "source": [
    "# 求时间差值\n",
    "time_left = option_expiry - current_dt\n",
    "print(time_left, type(time_left))"
   ]
  },
  {
   "cell_type": "code",
   "execution_count": 16,
   "metadata": {},
   "outputs": [
    {
     "name": "stdout",
     "output_type": "stream",
     "text": [
      "剩余天数 28\n",
      "剩余秒数 2472424.851324\n"
     ]
    }
   ],
   "source": [
    "# 检查偏移量\n",
    "print(\"剩余天数\", time_left.days)\n",
    "print(\"剩余秒数\", time_left.total_seconds())"
   ]
  },
  {
   "cell_type": "code",
   "execution_count": 17,
   "metadata": {},
   "outputs": [
    {
     "name": "stdout",
     "output_type": "stream",
     "text": [
      "2020-09-29 09:20:38.637480\n",
      "2020-09-28 09:20:38.637480\n",
      "2020-09-30 09:20:38.637480\n"
     ]
    }
   ],
   "source": [
    "# 计算相对日期\n",
    "today = datetime.now()\n",
    "yesterday = today - timedelta(days=1)\n",
    "tomorrow = today + timedelta(days=1)\n",
    "\n",
    "\n",
    "print(today)\n",
    "print(yesterday)\n",
    "print(tomorrow)"
   ]
  },
  {
   "cell_type": "code",
   "execution_count": 18,
   "metadata": {},
   "outputs": [
    {
     "data": {
      "text/plain": [
       "datetime.datetime(2020, 9, 29, 9, 12, 55, 148676)"
      ]
     },
     "execution_count": 18,
     "metadata": {},
     "output_type": "execute_result"
    }
   ],
   "source": [
    "current_dt"
   ]
  },
  {
   "cell_type": "code",
   "execution_count": 21,
   "metadata": {},
   "outputs": [
    {
     "data": {
      "text/plain": [
       "'2020-09-29 09:12:55 China Beijing Time'"
      ]
     },
     "execution_count": 21,
     "metadata": {},
     "output_type": "execute_result"
    }
   ],
   "source": [
    "# datetime转字符串\n",
    "current_dt.strftime(\"%Y-%m-%d %H:%M:%S\")"
   ]
  },
  {
   "cell_type": "code",
   "execution_count": 22,
   "metadata": {},
   "outputs": [
    {
     "name": "stdout",
     "output_type": "stream",
     "text": [
      "2020-09-27 20:46:35 <class 'datetime.datetime'>\n"
     ]
    }
   ],
   "source": [
    "# 字符串转datetime\n",
    "demo_str = \"2020/9/27 204635\"\n",
    "demo_dt = datetime.strptime(demo_str, \"%Y/%m/%d %H%M%S\")\n",
    "print(demo_dt, type(demo_dt))"
   ]
  },
  {
   "cell_type": "code",
   "execution_count": null,
   "metadata": {},
   "outputs": [],
   "source": []
  }
 ],
 "metadata": {
  "kernelspec": {
   "display_name": "Python 3",
   "language": "python",
   "name": "python3"
  },
  "language_info": {
   "codemirror_mode": {
    "name": "ipython",
    "version": 3
   },
   "file_extension": ".py",
   "mimetype": "text/x-python",
   "name": "python",
   "nbconvert_exporter": "python",
   "pygments_lexer": "ipython3",
   "version": "3.7.1"
  }
 },
 "nbformat": 4,
 "nbformat_minor": 4
}
