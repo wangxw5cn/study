{
 "cells": [
  {
   "cell_type": "code",
   "execution_count": 1,
   "metadata": {},
   "outputs": [],
   "source": [
    "# 定义缓存类\n",
    "class BarSeries:\n",
    "    open: list = []\n",
    "    high: list = []\n",
    "    low: list = []\n",
    "    close: list = []\n",
    "    \n",
    "    def update_bar(self, bar: dict):\n",
    "        \"\"\"更新K线\"\"\"\n",
    "        self.open.append(bar[\"open\"])\n",
    "        self.high.append(bar[\"high\"])\n",
    "        self.low.append(bar[\"low\"])\n",
    "        self.close.append(bar[\"close\"])\n",
    "        \n",
    "    def print_data(self):\n",
    "        \"\"\"打印数据\"\"\"\n",
    "        print(\"开盘价序列\", self.open)\n",
    "        print(\"最高价序列\", self.high)\n",
    "        print(\"最低价序列\", self.low)\n",
    "        print(\"收盘价序列\", self.close)"
   ]
  },
  {
   "cell_type": "code",
   "execution_count": 2,
   "metadata": {},
   "outputs": [],
   "source": [
    "# 创建K线字典\n",
    "bar = {\n",
    "    \"open\": 100,\n",
    "    \"high\": 102,\n",
    "    \"low\": 99,\n",
    "    \"close\": 101,\n",
    "}"
   ]
  },
  {
   "cell_type": "code",
   "execution_count": 3,
   "metadata": {},
   "outputs": [],
   "source": [
    "# 创建缓存实例\n",
    "bs1 = BarSeries()"
   ]
  },
  {
   "cell_type": "code",
   "execution_count": 4,
   "metadata": {},
   "outputs": [],
   "source": [
    "# 更新K线进去\n",
    "bs1.update_bar(bar)"
   ]
  },
  {
   "cell_type": "code",
   "execution_count": 5,
   "metadata": {},
   "outputs": [
    {
     "name": "stdout",
     "output_type": "stream",
     "text": [
      "开盘价序列 [100]\n",
      "最高价序列 [102]\n",
      "最低价序列 [99]\n",
      "收盘价序列 [101]\n"
     ]
    }
   ],
   "source": [
    "# 打印缓存结果\n",
    "bs1.print_data()"
   ]
  },
  {
   "cell_type": "code",
   "execution_count": 6,
   "metadata": {},
   "outputs": [],
   "source": [
    "# 创建缓存实例2\n",
    "bs2 = BarSeries()"
   ]
  },
  {
   "cell_type": "code",
   "execution_count": 7,
   "metadata": {},
   "outputs": [],
   "source": [
    "# 更新K线进去\n",
    "bs2.update_bar(bar)"
   ]
  },
  {
   "cell_type": "code",
   "execution_count": 8,
   "metadata": {},
   "outputs": [
    {
     "name": "stdout",
     "output_type": "stream",
     "text": [
      "开盘价序列 [100, 100]\n",
      "最高价序列 [102, 102]\n",
      "最低价序列 [99, 99]\n",
      "收盘价序列 [101, 101]\n"
     ]
    }
   ],
   "source": [
    "# 打印缓存结果\n",
    "bs2.print_data()"
   ]
  },
  {
   "cell_type": "code",
   "execution_count": 9,
   "metadata": {},
   "outputs": [
    {
     "data": {
      "text/plain": [
       "2521695048312"
      ]
     },
     "execution_count": 9,
     "metadata": {},
     "output_type": "execute_result"
    }
   ],
   "source": [
    "# 检查对象内存地址\n",
    "id(bs1)"
   ]
  },
  {
   "cell_type": "code",
   "execution_count": 10,
   "metadata": {},
   "outputs": [
    {
     "data": {
      "text/plain": [
       "2521694204088"
      ]
     },
     "execution_count": 10,
     "metadata": {},
     "output_type": "execute_result"
    }
   ],
   "source": [
    "id(bs2)"
   ]
  },
  {
   "cell_type": "code",
   "execution_count": 14,
   "metadata": {},
   "outputs": [
    {
     "data": {
      "text/plain": [
       "2521694927824"
      ]
     },
     "execution_count": 14,
     "metadata": {},
     "output_type": "execute_result"
    }
   ],
   "source": [
    "id(9999)"
   ]
  },
  {
   "cell_type": "code",
   "execution_count": 15,
   "metadata": {},
   "outputs": [
    {
     "data": {
      "text/plain": [
       "2521694926608"
      ]
     },
     "execution_count": 15,
     "metadata": {},
     "output_type": "execute_result"
    }
   ],
   "source": [
    "id(9999)"
   ]
  },
  {
   "cell_type": "code",
   "execution_count": 16,
   "metadata": {},
   "outputs": [
    {
     "data": {
      "text/plain": [
       "2521694764232"
      ]
     },
     "execution_count": 16,
     "metadata": {},
     "output_type": "execute_result"
    }
   ],
   "source": [
    "id(bs1.open)"
   ]
  },
  {
   "cell_type": "code",
   "execution_count": 17,
   "metadata": {},
   "outputs": [
    {
     "data": {
      "text/plain": [
       "2521694764232"
      ]
     },
     "execution_count": 17,
     "metadata": {},
     "output_type": "execute_result"
    }
   ],
   "source": [
    "id(bs2.open)"
   ]
  },
  {
   "cell_type": "code",
   "execution_count": 18,
   "metadata": {},
   "outputs": [],
   "source": [
    "# 定义新的缓存类\n",
    "class NewBarSeries:\n",
    "    \n",
    "    def __init__(self):\n",
    "        self.open: list = []\n",
    "        self.high: list = []\n",
    "        self.low: list = []\n",
    "        self.close: list = []\n",
    "    \n",
    "    def update_bar(self, bar: dict):\n",
    "        \"\"\"更新K线\"\"\"\n",
    "        self.open.append(bar[\"open\"])\n",
    "        self.high.append(bar[\"high\"])\n",
    "        self.low.append(bar[\"low\"])\n",
    "        self.close.append(bar[\"close\"])\n",
    "        \n",
    "    def print_data(self):\n",
    "        \"\"\"打印数据\"\"\"\n",
    "        print(\"开盘价序列\", self.open)\n",
    "        print(\"最高价序列\", self.high)\n",
    "        print(\"最低价序列\", self.low)\n",
    "        print(\"收盘价序列\", self.close)"
   ]
  },
  {
   "cell_type": "code",
   "execution_count": 19,
   "metadata": {},
   "outputs": [],
   "source": [
    "# 创建缓存实例\n",
    "nbs1 = NewBarSeries()"
   ]
  },
  {
   "cell_type": "code",
   "execution_count": 20,
   "metadata": {},
   "outputs": [
    {
     "name": "stdout",
     "output_type": "stream",
     "text": [
      "开盘价序列 [100]\n",
      "最高价序列 [102]\n",
      "最低价序列 [99]\n",
      "收盘价序列 [101]\n"
     ]
    }
   ],
   "source": [
    "nbs1.update_bar(bar)\n",
    "nbs1.print_data()"
   ]
  },
  {
   "cell_type": "code",
   "execution_count": 22,
   "metadata": {},
   "outputs": [
    {
     "name": "stdout",
     "output_type": "stream",
     "text": [
      "开盘价序列 [100]\n",
      "最高价序列 [102]\n",
      "最低价序列 [99]\n",
      "收盘价序列 [101]\n"
     ]
    }
   ],
   "source": [
    "nbs2 = NewBarSeries()\n",
    "nbs2.update_bar(bar)\n",
    "nbs2.print_data()"
   ]
  },
  {
   "cell_type": "code",
   "execution_count": 25,
   "metadata": {},
   "outputs": [
    {
     "data": {
      "text/plain": [
       "2521695118672"
      ]
     },
     "execution_count": 25,
     "metadata": {},
     "output_type": "execute_result"
    }
   ],
   "source": [
    "id(nbs2)"
   ]
  },
  {
   "cell_type": "code",
   "execution_count": 26,
   "metadata": {},
   "outputs": [
    {
     "data": {
      "text/plain": [
       "2521695120744"
      ]
     },
     "execution_count": 26,
     "metadata": {},
     "output_type": "execute_result"
    }
   ],
   "source": [
    "id(nbs1)"
   ]
  },
  {
   "cell_type": "code",
   "execution_count": 31,
   "metadata": {},
   "outputs": [],
   "source": [
    "a = 9999"
   ]
  },
  {
   "cell_type": "code",
   "execution_count": 32,
   "metadata": {},
   "outputs": [],
   "source": [
    "b = a"
   ]
  },
  {
   "cell_type": "code",
   "execution_count": 33,
   "metadata": {},
   "outputs": [],
   "source": [
    "b = b + 100"
   ]
  },
  {
   "cell_type": "code",
   "execution_count": 34,
   "metadata": {},
   "outputs": [
    {
     "name": "stdout",
     "output_type": "stream",
     "text": [
      "9999 10099\n"
     ]
    }
   ],
   "source": [
    "print(a, b)"
   ]
  },
  {
   "cell_type": "code",
   "execution_count": 35,
   "metadata": {},
   "outputs": [],
   "source": [
    "c = []"
   ]
  },
  {
   "cell_type": "code",
   "execution_count": 36,
   "metadata": {},
   "outputs": [],
   "source": [
    "d = c"
   ]
  },
  {
   "cell_type": "code",
   "execution_count": 37,
   "metadata": {},
   "outputs": [],
   "source": [
    "d.append(123)"
   ]
  },
  {
   "cell_type": "code",
   "execution_count": 38,
   "metadata": {},
   "outputs": [
    {
     "name": "stdout",
     "output_type": "stream",
     "text": [
      "[123] [123]\n"
     ]
    }
   ],
   "source": [
    "print(c, d)"
   ]
  },
  {
   "cell_type": "code",
   "execution_count": null,
   "metadata": {},
   "outputs": [],
   "source": []
  }
 ],
 "metadata": {
  "kernelspec": {
   "display_name": "Python 3",
   "language": "python",
   "name": "python3"
  },
  "language_info": {
   "codemirror_mode": {
    "name": "ipython",
    "version": 3
   },
   "file_extension": ".py",
   "mimetype": "text/x-python",
   "name": "python",
   "nbconvert_exporter": "python",
   "pygments_lexer": "ipython3",
   "version": "3.7.1"
  }
 },
 "nbformat": 4,
 "nbformat_minor": 4
}
