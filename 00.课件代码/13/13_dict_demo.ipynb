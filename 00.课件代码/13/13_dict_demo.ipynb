{
 "cells": [
  {
   "cell_type": "code",
   "execution_count": 1,
   "metadata": {},
   "outputs": [],
   "source": [
    "# 创建字典\n",
    "a = {}"
   ]
  },
  {
   "cell_type": "code",
   "execution_count": 2,
   "metadata": {},
   "outputs": [
    {
     "data": {
      "text/plain": [
       "dict"
      ]
     },
     "execution_count": 2,
     "metadata": {},
     "output_type": "execute_result"
    }
   ],
   "source": [
    "type(a)"
   ]
  },
  {
   "cell_type": "code",
   "execution_count": 3,
   "metadata": {},
   "outputs": [],
   "source": [
    "a = dict()"
   ]
  },
  {
   "cell_type": "code",
   "execution_count": 5,
   "metadata": {},
   "outputs": [],
   "source": [
    "contract_priceticks = {\n",
    "    \"IF2009\": 0.2,\n",
    "    \"rb2101\": 1,\n",
    "    \"600036\": 0.01\n",
    "}"
   ]
  },
  {
   "cell_type": "code",
   "execution_count": 6,
   "metadata": {},
   "outputs": [
    {
     "name": "stdout",
     "output_type": "stream",
     "text": [
      "{'IF2009': 0.2, 'rb2101': 1, '600036': 0.01}\n"
     ]
    }
   ],
   "source": [
    "print(contract_priceticks)"
   ]
  },
  {
   "cell_type": "code",
   "execution_count": 11,
   "metadata": {},
   "outputs": [],
   "source": [
    "# 键值元组列表创建\n",
    "l = [\n",
    "    (\"IF2009\", 0.2),\n",
    "    (\"rb2101\", 1),\n",
    "    (\"600036\", 0.01)\n",
    "]\n",
    "a = dict(l)"
   ]
  },
  {
   "cell_type": "code",
   "execution_count": 12,
   "metadata": {},
   "outputs": [
    {
     "data": {
      "text/plain": [
       "{'IF2009': 0.2, 'rb2101': 1, '600036': 0.01}"
      ]
     },
     "execution_count": 12,
     "metadata": {},
     "output_type": "execute_result"
    }
   ],
   "source": [
    "a"
   ]
  },
  {
   "cell_type": "code",
   "execution_count": 13,
   "metadata": {},
   "outputs": [
    {
     "data": {
      "text/plain": [
       "{'0': 0,\n",
       " '1': 1,\n",
       " '2': 4,\n",
       " '3': 9,\n",
       " '4': 16,\n",
       " '5': 25,\n",
       " '6': 36,\n",
       " '7': 49,\n",
       " '8': 64,\n",
       " '9': 81}"
      ]
     },
     "execution_count": 13,
     "metadata": {},
     "output_type": "execute_result"
    }
   ],
   "source": [
    "# 列表解析创建\n",
    "{str(i): i*i for i in range(10)}"
   ]
  },
  {
   "cell_type": "code",
   "execution_count": 14,
   "metadata": {},
   "outputs": [
    {
     "data": {
      "text/plain": [
       "{'IF2009': 0.2, 'rb2101': 1, '600036': 0.01}"
      ]
     },
     "execution_count": 14,
     "metadata": {},
     "output_type": "execute_result"
    }
   ],
   "source": [
    "contract_priceticks"
   ]
  },
  {
   "cell_type": "code",
   "execution_count": 16,
   "metadata": {},
   "outputs": [],
   "source": [
    "# 数据访问\n",
    "pricetick = contract_priceticks[\"IF2009\"]"
   ]
  },
  {
   "cell_type": "code",
   "execution_count": 18,
   "metadata": {},
   "outputs": [],
   "source": [
    "contract_priceticks[\"IH2010\"] = 0.2"
   ]
  },
  {
   "cell_type": "code",
   "execution_count": 19,
   "metadata": {},
   "outputs": [
    {
     "name": "stdout",
     "output_type": "stream",
     "text": [
      "{'IF2009': 0.2, 'rb2101': 1, '600036': 0.01, 'IH2010': 0.2}\n"
     ]
    }
   ],
   "source": [
    "print(contract_priceticks)"
   ]
  },
  {
   "cell_type": "code",
   "execution_count": 20,
   "metadata": {},
   "outputs": [],
   "source": [
    "for symbol in [\"IC2009\", \"IC2010\", \"IC2012\", \"IC2101\"]:\n",
    "    contract_priceticks[symbol] = 0.2"
   ]
  },
  {
   "cell_type": "code",
   "execution_count": 21,
   "metadata": {},
   "outputs": [
    {
     "name": "stdout",
     "output_type": "stream",
     "text": [
      "{'IF2009': 0.2, 'rb2101': 1, '600036': 0.01, 'IH2010': 0.2, 'IC2009': 0.2, 'IC2010': 0.2, 'IC2012': 0.2, 'IC2101': 0.2}\n"
     ]
    }
   ],
   "source": [
    "print(contract_priceticks)"
   ]
  },
  {
   "cell_type": "code",
   "execution_count": 22,
   "metadata": {},
   "outputs": [],
   "source": [
    "contract_priceticks[\"rb2101\"] = 0.5"
   ]
  },
  {
   "cell_type": "code",
   "execution_count": 23,
   "metadata": {},
   "outputs": [
    {
     "name": "stdout",
     "output_type": "stream",
     "text": [
      "{'IF2009': 0.2, 'rb2101': 0.5, '600036': 0.01, 'IH2010': 0.2, 'IC2009': 0.2, 'IC2010': 0.2, 'IC2012': 0.2, 'IC2101': 0.2}\n"
     ]
    }
   ],
   "source": [
    "print(contract_priceticks)"
   ]
  },
  {
   "cell_type": "code",
   "execution_count": 25,
   "metadata": {},
   "outputs": [
    {
     "data": {
      "text/plain": [
       "0.5"
      ]
     },
     "execution_count": 25,
     "metadata": {},
     "output_type": "execute_result"
    }
   ],
   "source": [
    "contract_priceticks[\"rb2101\"]"
   ]
  },
  {
   "cell_type": "code",
   "execution_count": 30,
   "metadata": {},
   "outputs": [],
   "source": [
    "del contract_priceticks[\"IC2101\"]"
   ]
  },
  {
   "cell_type": "code",
   "execution_count": 31,
   "metadata": {},
   "outputs": [
    {
     "name": "stdout",
     "output_type": "stream",
     "text": [
      "{'IF2009': 0.2, 'rb2101': 0.5, '600036': 0.01, 'IH2010': 0.2}\n"
     ]
    }
   ],
   "source": [
    "print(contract_priceticks)"
   ]
  },
  {
   "cell_type": "code",
   "execution_count": 32,
   "metadata": {},
   "outputs": [
    {
     "ename": "TypeError",
     "evalue": "unhashable type: 'list'",
     "output_type": "error",
     "traceback": [
      "\u001b[1;31m---------------------------------------------------------------------------\u001b[0m",
      "\u001b[1;31mTypeError\u001b[0m                                 Traceback (most recent call last)",
      "\u001b[1;32m<ipython-input-32-76bb8104404d>\u001b[0m in \u001b[0;36m<module>\u001b[1;34m\u001b[0m\n\u001b[0;32m      1\u001b[0m \u001b[0ma\u001b[0m \u001b[1;33m=\u001b[0m \u001b[1;33m{\u001b[0m\u001b[1;33m}\u001b[0m\u001b[1;33m\u001b[0m\u001b[1;33m\u001b[0m\u001b[0m\n\u001b[0;32m      2\u001b[0m \u001b[0ml\u001b[0m \u001b[1;33m=\u001b[0m \u001b[1;33m[\u001b[0m\u001b[1;36m1\u001b[0m\u001b[1;33m,\u001b[0m \u001b[1;36m2\u001b[0m\u001b[1;33m,\u001b[0m \u001b[1;36m3\u001b[0m\u001b[1;33m]\u001b[0m\u001b[1;33m\u001b[0m\u001b[1;33m\u001b[0m\u001b[0m\n\u001b[1;32m----> 3\u001b[1;33m \u001b[0ma\u001b[0m\u001b[1;33m[\u001b[0m\u001b[0ml\u001b[0m\u001b[1;33m]\u001b[0m \u001b[1;33m=\u001b[0m \u001b[1;36m123\u001b[0m\u001b[1;33m\u001b[0m\u001b[1;33m\u001b[0m\u001b[0m\n\u001b[0m",
      "\u001b[1;31mTypeError\u001b[0m: unhashable type: 'list'"
     ]
    }
   ],
   "source": [
    "# 不可变的key\n",
    "a = {}\n",
    "l = [1, 2, 3]\n",
    "a[l] = 123"
   ]
  },
  {
   "cell_type": "code",
   "execution_count": 34,
   "metadata": {},
   "outputs": [
    {
     "name": "stdout",
     "output_type": "stream",
     "text": [
      "IF2009\n",
      "rb2101\n",
      "600036\n",
      "IH2010\n"
     ]
    }
   ],
   "source": [
    "# 循环迭代\n",
    "for symbol in contract_priceticks.keys():\n",
    "    print(symbol)"
   ]
  },
  {
   "cell_type": "code",
   "execution_count": 37,
   "metadata": {},
   "outputs": [
    {
     "name": "stdout",
     "output_type": "stream",
     "text": [
      "2.0\n",
      "5.0\n",
      "0.1\n",
      "2.0\n"
     ]
    }
   ],
   "source": [
    "for pricetick in contract_priceticks.values():\n",
    "    print(pricetick * 10)"
   ]
  },
  {
   "cell_type": "code",
   "execution_count": 39,
   "metadata": {},
   "outputs": [
    {
     "name": "stdout",
     "output_type": "stream",
     "text": [
      "IF2009的合约价格跳动是0.2\n",
      "rb2101的合约价格跳动是0.5\n",
      "600036的合约价格跳动是0.01\n",
      "IH2010的合约价格跳动是0.2\n"
     ]
    }
   ],
   "source": [
    "for symbol, pricetick in contract_priceticks.items():\n",
    "    print(f\"{symbol}的合约价格跳动是{pricetick}\")"
   ]
  },
  {
   "cell_type": "code",
   "execution_count": 40,
   "metadata": {},
   "outputs": [
    {
     "data": {
      "text/plain": [
       "{'IF2009': 0.2, 'rb2101': 0.5, '600036': 0.01, 'IH2010': 0.2}"
      ]
     },
     "execution_count": 40,
     "metadata": {},
     "output_type": "execute_result"
    }
   ],
   "source": [
    "contract_priceticks"
   ]
  },
  {
   "cell_type": "code",
   "execution_count": 42,
   "metadata": {},
   "outputs": [
    {
     "data": {
      "text/plain": [
       "True"
      ]
     },
     "execution_count": 42,
     "metadata": {},
     "output_type": "execute_result"
    }
   ],
   "source": [
    "# 判断某一元素是否存在\n",
    "\"IF2009\" in contract_priceticks"
   ]
  },
  {
   "cell_type": "code",
   "execution_count": 45,
   "metadata": {},
   "outputs": [
    {
     "data": {
      "text/plain": [
       "0.2"
      ]
     },
     "execution_count": 45,
     "metadata": {},
     "output_type": "execute_result"
    }
   ],
   "source": [
    "# 带有默认值的查询操作\n",
    "contract_priceticks.get(\"IF2009\", 0)"
   ]
  },
  {
   "cell_type": "code",
   "execution_count": 46,
   "metadata": {},
   "outputs": [],
   "source": [
    "ic_priceticks = {\n",
    "    \"IC2009\": 0.2,\n",
    "    \"IC2010\": 0.2,\n",
    "    \"IC2012\": 0.2,\n",
    "    \"IC2101\": 0.2,\n",
    "}"
   ]
  },
  {
   "cell_type": "code",
   "execution_count": 47,
   "metadata": {},
   "outputs": [],
   "source": [
    "# 更新字典内容\n",
    "contract_priceticks.update(ic_priceticks)"
   ]
  },
  {
   "cell_type": "code",
   "execution_count": 48,
   "metadata": {},
   "outputs": [
    {
     "name": "stdout",
     "output_type": "stream",
     "text": [
      "{'IF2009': 0.2, 'rb2101': 0.5, '600036': 0.01, 'IH2010': 0.2, 'IC2009': 0.2, 'IC2010': 0.2, 'IC2012': 0.2, 'IC2101': 0.2}\n"
     ]
    }
   ],
   "source": [
    "print(contract_priceticks)"
   ]
  },
  {
   "cell_type": "code",
   "execution_count": 49,
   "metadata": {
    "scrolled": false
   },
   "outputs": [
    {
     "data": {
      "text/plain": [
       "{'__name__': '__main__',\n",
       " '__doc__': 'Automatically created module for IPython interactive environment',\n",
       " '__package__': None,\n",
       " '__loader__': None,\n",
       " '__spec__': None,\n",
       " '__builtin__': <module 'builtins' (built-in)>,\n",
       " '__builtins__': <module 'builtins' (built-in)>,\n",
       " '_ih': ['',\n",
       "  'a = {}',\n",
       "  'type(a)',\n",
       "  'a = dict()',\n",
       "  'contract_priceticks = {\\n    \"IF2009\": 0.2,\\n    \"rb2101\": 1,\\n    \"600036\": 0.01\\n}',\n",
       "  'contract_priceticks = {\"IF2009\": 0.2, \"rb2101\": 1, \"600036\": 0.01}',\n",
       "  'print(contract_priceticks)',\n",
       "  'a = dict(IF2009=0.2, rb2101=1, 600036=0.01)',\n",
       "  'a = dict(IF2009=0.2, rb2101=1, m2101=0.01)',\n",
       "  'a',\n",
       "  'a = dict(IF2009=0.2, rb2101=1, m2101=1)',\n",
       "  'l = [\\n    (\"IF2009\", 0.2),\\n    (\"rb2101\", 1),\\n    (\"600036\", 0.01)\\n]\\na = dict(l)',\n",
       "  'a',\n",
       "  '{str(i): i*i for i in range(10)}',\n",
       "  'contract_priceticks',\n",
       "  'contract_priceticks[\"IF2009\"]',\n",
       "  'pricetick = contract_priceticks[\"IF2009\"]',\n",
       "  'print(pricetick)',\n",
       "  'contract_priceticks[\"IH2010\"] = 0.2',\n",
       "  'print(contract_priceticks)',\n",
       "  'for symbol in [\"IC2009\", \"IC2010\", \"IC2012\", \"IC2101\"]:\\n    contract_priceticks[symbol] = 0.2',\n",
       "  'print(contract_priceticks)',\n",
       "  'contract_priceticks[\"rb2101\"] = 0.5',\n",
       "  'print(contract_priceticks)',\n",
       "  'contract_priecticks[\"rb2101\"]',\n",
       "  'contract_priceticks[\"rb2101\"]',\n",
       "  'del contract_priceticks[\"IC2009\"]',\n",
       "  'print(contract_priceticks)',\n",
       "  'del contract_priceticks[\"IC2010\"]',\n",
       "  'del contract_priceticks[\"IC2012\"]',\n",
       "  'del contract_priceticks[\"IC2101\"]',\n",
       "  'print(contract_priceticks)',\n",
       "  'a = {}\\nl = [1, 2, 3]\\na[l] = 123',\n",
       "  'for symbol in contract_priceticks:\\n    print(symbol)',\n",
       "  'for symbol in contract_priceticks.keys():\\n    print(symbol)',\n",
       "  'for pricetick in contract_priceticks.values():\\n    print(pricetick)',\n",
       "  'for pricetick in contract_priceticks.values():\\n    print(pricetick + 1)',\n",
       "  'for pricetick in contract_priceticks.values():\\n    print(pricetick * 10)',\n",
       "  'for symbol, pricetick in contract_priceticks.items():\\n    print(symbol, pricetick)',\n",
       "  'for symbol, pricetick in contract_priceticks.items():\\n    print(f\"{symbol}的合约价格跳动是{pricetick}\")',\n",
       "  'contract_priceticks',\n",
       "  '\"IC2009\" in contract_priceticks',\n",
       "  '\"IF2009\" in contract_priceticks',\n",
       "  'contract_priceticks[\"IC2009\"]',\n",
       "  'contract_priceticks.get(\"IC2009\", 0)',\n",
       "  'contract_priceticks.get(\"IF2009\", 0)',\n",
       "  'ic_priceticks = {\\n    \"IC2009\": 0.2,\\n    \"IC2010\": 0.2,\\n    \"IC2012\": 0.2,\\n    \"IC2101\": 0.2,\\n}',\n",
       "  'contract_priceticks.update(ic_priceticks)',\n",
       "  'print(contract_priceticks)',\n",
       "  'globals()'],\n",
       " '_oh': {2: dict,\n",
       "  9: {'IF2009': 0.2, 'rb2101': 1, 'm2101': 0.01},\n",
       "  12: {'IF2009': 0.2, 'rb2101': 1, '600036': 0.01},\n",
       "  13: {'0': 0,\n",
       "   '1': 1,\n",
       "   '2': 4,\n",
       "   '3': 9,\n",
       "   '4': 16,\n",
       "   '5': 25,\n",
       "   '6': 36,\n",
       "   '7': 49,\n",
       "   '8': 64,\n",
       "   '9': 81},\n",
       "  14: {'IF2009': 0.2,\n",
       "   'rb2101': 0.5,\n",
       "   '600036': 0.01,\n",
       "   'IH2010': 0.2,\n",
       "   'IC2009': 0.2,\n",
       "   'IC2010': 0.2,\n",
       "   'IC2012': 0.2,\n",
       "   'IC2101': 0.2},\n",
       "  15: 0.2,\n",
       "  25: 0.5,\n",
       "  40: {'IF2009': 0.2,\n",
       "   'rb2101': 0.5,\n",
       "   '600036': 0.01,\n",
       "   'IH2010': 0.2,\n",
       "   'IC2009': 0.2,\n",
       "   'IC2010': 0.2,\n",
       "   'IC2012': 0.2,\n",
       "   'IC2101': 0.2},\n",
       "  41: False,\n",
       "  42: True,\n",
       "  44: 0,\n",
       "  45: 0.2},\n",
       " '_dh': ['C:\\\\Users\\\\Administrator\\\\Desktop\\\\demo_code'],\n",
       " 'In': ['',\n",
       "  'a = {}',\n",
       "  'type(a)',\n",
       "  'a = dict()',\n",
       "  'contract_priceticks = {\\n    \"IF2009\": 0.2,\\n    \"rb2101\": 1,\\n    \"600036\": 0.01\\n}',\n",
       "  'contract_priceticks = {\"IF2009\": 0.2, \"rb2101\": 1, \"600036\": 0.01}',\n",
       "  'print(contract_priceticks)',\n",
       "  'a = dict(IF2009=0.2, rb2101=1, 600036=0.01)',\n",
       "  'a = dict(IF2009=0.2, rb2101=1, m2101=0.01)',\n",
       "  'a',\n",
       "  'a = dict(IF2009=0.2, rb2101=1, m2101=1)',\n",
       "  'l = [\\n    (\"IF2009\", 0.2),\\n    (\"rb2101\", 1),\\n    (\"600036\", 0.01)\\n]\\na = dict(l)',\n",
       "  'a',\n",
       "  '{str(i): i*i for i in range(10)}',\n",
       "  'contract_priceticks',\n",
       "  'contract_priceticks[\"IF2009\"]',\n",
       "  'pricetick = contract_priceticks[\"IF2009\"]',\n",
       "  'print(pricetick)',\n",
       "  'contract_priceticks[\"IH2010\"] = 0.2',\n",
       "  'print(contract_priceticks)',\n",
       "  'for symbol in [\"IC2009\", \"IC2010\", \"IC2012\", \"IC2101\"]:\\n    contract_priceticks[symbol] = 0.2',\n",
       "  'print(contract_priceticks)',\n",
       "  'contract_priceticks[\"rb2101\"] = 0.5',\n",
       "  'print(contract_priceticks)',\n",
       "  'contract_priecticks[\"rb2101\"]',\n",
       "  'contract_priceticks[\"rb2101\"]',\n",
       "  'del contract_priceticks[\"IC2009\"]',\n",
       "  'print(contract_priceticks)',\n",
       "  'del contract_priceticks[\"IC2010\"]',\n",
       "  'del contract_priceticks[\"IC2012\"]',\n",
       "  'del contract_priceticks[\"IC2101\"]',\n",
       "  'print(contract_priceticks)',\n",
       "  'a = {}\\nl = [1, 2, 3]\\na[l] = 123',\n",
       "  'for symbol in contract_priceticks:\\n    print(symbol)',\n",
       "  'for symbol in contract_priceticks.keys():\\n    print(symbol)',\n",
       "  'for pricetick in contract_priceticks.values():\\n    print(pricetick)',\n",
       "  'for pricetick in contract_priceticks.values():\\n    print(pricetick + 1)',\n",
       "  'for pricetick in contract_priceticks.values():\\n    print(pricetick * 10)',\n",
       "  'for symbol, pricetick in contract_priceticks.items():\\n    print(symbol, pricetick)',\n",
       "  'for symbol, pricetick in contract_priceticks.items():\\n    print(f\"{symbol}的合约价格跳动是{pricetick}\")',\n",
       "  'contract_priceticks',\n",
       "  '\"IC2009\" in contract_priceticks',\n",
       "  '\"IF2009\" in contract_priceticks',\n",
       "  'contract_priceticks[\"IC2009\"]',\n",
       "  'contract_priceticks.get(\"IC2009\", 0)',\n",
       "  'contract_priceticks.get(\"IF2009\", 0)',\n",
       "  'ic_priceticks = {\\n    \"IC2009\": 0.2,\\n    \"IC2010\": 0.2,\\n    \"IC2012\": 0.2,\\n    \"IC2101\": 0.2,\\n}',\n",
       "  'contract_priceticks.update(ic_priceticks)',\n",
       "  'print(contract_priceticks)',\n",
       "  'globals()'],\n",
       " 'Out': {2: dict,\n",
       "  9: {'IF2009': 0.2, 'rb2101': 1, 'm2101': 0.01},\n",
       "  12: {'IF2009': 0.2, 'rb2101': 1, '600036': 0.01},\n",
       "  13: {'0': 0,\n",
       "   '1': 1,\n",
       "   '2': 4,\n",
       "   '3': 9,\n",
       "   '4': 16,\n",
       "   '5': 25,\n",
       "   '6': 36,\n",
       "   '7': 49,\n",
       "   '8': 64,\n",
       "   '9': 81},\n",
       "  14: {'IF2009': 0.2,\n",
       "   'rb2101': 0.5,\n",
       "   '600036': 0.01,\n",
       "   'IH2010': 0.2,\n",
       "   'IC2009': 0.2,\n",
       "   'IC2010': 0.2,\n",
       "   'IC2012': 0.2,\n",
       "   'IC2101': 0.2},\n",
       "  15: 0.2,\n",
       "  25: 0.5,\n",
       "  40: {'IF2009': 0.2,\n",
       "   'rb2101': 0.5,\n",
       "   '600036': 0.01,\n",
       "   'IH2010': 0.2,\n",
       "   'IC2009': 0.2,\n",
       "   'IC2010': 0.2,\n",
       "   'IC2012': 0.2,\n",
       "   'IC2101': 0.2},\n",
       "  41: False,\n",
       "  42: True,\n",
       "  44: 0,\n",
       "  45: 0.2},\n",
       " 'get_ipython': <bound method InteractiveShell.get_ipython of <ipykernel.zmqshell.ZMQInteractiveShell object at 0x0000027A7C73E6A0>>,\n",
       " 'exit': <IPython.core.autocall.ZMQExitAutocall at 0x27a7c9342e8>,\n",
       " 'quit': <IPython.core.autocall.ZMQExitAutocall at 0x27a7c9342e8>,\n",
       " '_': 0.2,\n",
       " '__': 0,\n",
       " '___': True,\n",
       " '_i': 'print(contract_priceticks)',\n",
       " '_ii': 'contract_priceticks.update(ic_priceticks)',\n",
       " '_iii': 'ic_priceticks = {\\n    \"IC2009\": 0.2,\\n    \"IC2010\": 0.2,\\n    \"IC2012\": 0.2,\\n    \"IC2101\": 0.2,\\n}',\n",
       " '_i1': 'a = {}',\n",
       " 'a': {},\n",
       " '_i2': 'type(a)',\n",
       " '_2': dict,\n",
       " '_i3': 'a = dict()',\n",
       " '_i4': 'contract_priceticks = {\\n    \"IF2009\": 0.2,\\n    \"rb2101\": 1,\\n    \"600036\": 0.01\\n}',\n",
       " 'contract_priceticks': {'IF2009': 0.2,\n",
       "  'rb2101': 0.5,\n",
       "  '600036': 0.01,\n",
       "  'IH2010': 0.2,\n",
       "  'IC2009': 0.2,\n",
       "  'IC2010': 0.2,\n",
       "  'IC2012': 0.2,\n",
       "  'IC2101': 0.2},\n",
       " '_i5': 'contract_priceticks = {\"IF2009\": 0.2, \"rb2101\": 1, \"600036\": 0.01}',\n",
       " '_i6': 'print(contract_priceticks)',\n",
       " '_i7': 'a = dict(IF2009=0.2, rb2101=1, 600036=0.01)',\n",
       " '_i8': 'a = dict(IF2009=0.2, rb2101=1, m2101=0.01)',\n",
       " '_i9': 'a',\n",
       " '_9': {'IF2009': 0.2, 'rb2101': 1, 'm2101': 0.01},\n",
       " '_i10': 'a = dict(IF2009=0.2, rb2101=1, m2101=1)',\n",
       " '_i11': 'l = [\\n    (\"IF2009\", 0.2),\\n    (\"rb2101\", 1),\\n    (\"600036\", 0.01)\\n]\\na = dict(l)',\n",
       " 'l': [1, 2, 3],\n",
       " '_i12': 'a',\n",
       " '_12': {'IF2009': 0.2, 'rb2101': 1, '600036': 0.01},\n",
       " '_i13': '{str(i): i*i for i in range(10)}',\n",
       " '_13': {'0': 0,\n",
       "  '1': 1,\n",
       "  '2': 4,\n",
       "  '3': 9,\n",
       "  '4': 16,\n",
       "  '5': 25,\n",
       "  '6': 36,\n",
       "  '7': 49,\n",
       "  '8': 64,\n",
       "  '9': 81},\n",
       " '_i14': 'contract_priceticks',\n",
       " '_14': {'IF2009': 0.2,\n",
       "  'rb2101': 0.5,\n",
       "  '600036': 0.01,\n",
       "  'IH2010': 0.2,\n",
       "  'IC2009': 0.2,\n",
       "  'IC2010': 0.2,\n",
       "  'IC2012': 0.2,\n",
       "  'IC2101': 0.2},\n",
       " '_i15': 'contract_priceticks[\"IF2009\"]',\n",
       " '_15': 0.2,\n",
       " '_i16': 'pricetick = contract_priceticks[\"IF2009\"]',\n",
       " 'pricetick': 0.2,\n",
       " '_i17': 'print(pricetick)',\n",
       " '_i18': 'contract_priceticks[\"IH2010\"] = 0.2',\n",
       " '_i19': 'print(contract_priceticks)',\n",
       " '_i20': 'for symbol in [\"IC2009\", \"IC2010\", \"IC2012\", \"IC2101\"]:\\n    contract_priceticks[symbol] = 0.2',\n",
       " 'symbol': 'IH2010',\n",
       " '_i21': 'print(contract_priceticks)',\n",
       " '_i22': 'contract_priceticks[\"rb2101\"] = 0.5',\n",
       " '_i23': 'print(contract_priceticks)',\n",
       " '_i24': 'contract_priecticks[\"rb2101\"]',\n",
       " '_i25': 'contract_priceticks[\"rb2101\"]',\n",
       " '_25': 0.5,\n",
       " '_i26': 'del contract_priceticks[\"IC2009\"]',\n",
       " '_i27': 'print(contract_priceticks)',\n",
       " '_i28': 'del contract_priceticks[\"IC2010\"]',\n",
       " '_i29': 'del contract_priceticks[\"IC2012\"]',\n",
       " '_i30': 'del contract_priceticks[\"IC2101\"]',\n",
       " '_i31': 'print(contract_priceticks)',\n",
       " '_i32': 'a = {}\\nl = [1, 2, 3]\\na[l] = 123',\n",
       " '_i33': 'for symbol in contract_priceticks:\\n    print(symbol)',\n",
       " '_i34': 'for symbol in contract_priceticks.keys():\\n    print(symbol)',\n",
       " '_i35': 'for pricetick in contract_priceticks.values():\\n    print(pricetick)',\n",
       " '_i36': 'for pricetick in contract_priceticks.values():\\n    print(pricetick + 1)',\n",
       " '_i37': 'for pricetick in contract_priceticks.values():\\n    print(pricetick * 10)',\n",
       " '_i38': 'for symbol, pricetick in contract_priceticks.items():\\n    print(symbol, pricetick)',\n",
       " '_i39': 'for symbol, pricetick in contract_priceticks.items():\\n    print(f\"{symbol}的合约价格跳动是{pricetick}\")',\n",
       " '_i40': 'contract_priceticks',\n",
       " '_40': {'IF2009': 0.2,\n",
       "  'rb2101': 0.5,\n",
       "  '600036': 0.01,\n",
       "  'IH2010': 0.2,\n",
       "  'IC2009': 0.2,\n",
       "  'IC2010': 0.2,\n",
       "  'IC2012': 0.2,\n",
       "  'IC2101': 0.2},\n",
       " '_i41': '\"IC2009\" in contract_priceticks',\n",
       " '_41': False,\n",
       " '_i42': '\"IF2009\" in contract_priceticks',\n",
       " '_42': True,\n",
       " '_i43': 'contract_priceticks[\"IC2009\"]',\n",
       " '_i44': 'contract_priceticks.get(\"IC2009\", 0)',\n",
       " '_44': 0,\n",
       " '_i45': 'contract_priceticks.get(\"IF2009\", 0)',\n",
       " '_45': 0.2,\n",
       " '_i46': 'ic_priceticks = {\\n    \"IC2009\": 0.2,\\n    \"IC2010\": 0.2,\\n    \"IC2012\": 0.2,\\n    \"IC2101\": 0.2,\\n}',\n",
       " 'ic_priceticks': {'IC2009': 0.2, 'IC2010': 0.2, 'IC2012': 0.2, 'IC2101': 0.2},\n",
       " '_i47': 'contract_priceticks.update(ic_priceticks)',\n",
       " '_i48': 'print(contract_priceticks)',\n",
       " '_i49': 'globals()'}"
      ]
     },
     "execution_count": 49,
     "metadata": {},
     "output_type": "execute_result"
    }
   ],
   "source": [
    "# Python解释器的全局字典\n",
    "globals()"
   ]
  },
  {
   "cell_type": "code",
   "execution_count": 50,
   "metadata": {},
   "outputs": [],
   "source": [
    "# Python中对象的内置字典\n",
    "from vnpy.trader.object import BaseData\n",
    "\n",
    "base = BaseData(gateway_name=\"CTP\")"
   ]
  },
  {
   "cell_type": "code",
   "execution_count": 51,
   "metadata": {},
   "outputs": [
    {
     "name": "stdout",
     "output_type": "stream",
     "text": [
      "BaseData(gateway_name='CTP')\n"
     ]
    }
   ],
   "source": [
    "print(base)"
   ]
  },
  {
   "cell_type": "code",
   "execution_count": 52,
   "metadata": {},
   "outputs": [
    {
     "name": "stdout",
     "output_type": "stream",
     "text": [
      "{'gateway_name': 'CTP'}\n"
     ]
    }
   ],
   "source": [
    "print(base.__dict__)"
   ]
  },
  {
   "cell_type": "code",
   "execution_count": null,
   "metadata": {},
   "outputs": [],
   "source": []
  }
 ],
 "metadata": {
  "kernelspec": {
   "display_name": "Python 3",
   "language": "python",
   "name": "python3"
  },
  "language_info": {
   "codemirror_mode": {
    "name": "ipython",
    "version": 3
   },
   "file_extension": ".py",
   "mimetype": "text/x-python",
   "name": "python",
   "nbconvert_exporter": "python",
   "pygments_lexer": "ipython3",
   "version": "3.7.1"
  }
 },
 "nbformat": 4,
 "nbformat_minor": 4
}
