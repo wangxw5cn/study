{
 "cells": [
  {
   "cell_type": "code",
   "execution_count": 1,
   "metadata": {},
   "outputs": [],
   "source": [
    "import logging"
   ]
  },
  {
   "cell_type": "code",
   "execution_count": null,
   "metadata": {},
   "outputs": [],
   "source": [
    "logging.critical(\"测试信息\")"
   ]
  },
  {
   "cell_type": "code",
   "execution_count": null,
   "metadata": {},
   "outputs": [],
   "source": [
    "print(\"打印信息\")"
   ]
  },
  {
   "cell_type": "code",
   "execution_count": 2,
   "metadata": {},
   "outputs": [],
   "source": [
    "# 准备日志记录工具\n",
    "logger = logging.getLogger(\"test\")\n",
    "logger.setLevel(logging.DEBUG)"
   ]
  },
  {
   "cell_type": "code",
   "execution_count": 3,
   "metadata": {},
   "outputs": [
    {
     "name": "stdout",
     "output_type": "stream",
     "text": [
      "DEBUG 10\n",
      "INFO 20\n",
      "WARNING 30\n",
      "ERROR 40\n",
      "CRITICAL 50\n"
     ]
    }
   ],
   "source": [
    "# 日志级别对应的整数\n",
    "print(\"DEBUG\", logging.DEBUG)\n",
    "print(\"INFO\", logging.INFO)\n",
    "print(\"WARNING\", logging.WARNING)\n",
    "print(\"ERROR\", logging.ERROR)\n",
    "print(\"CRITICAL\", logging.CRITICAL)"
   ]
  },
  {
   "cell_type": "code",
   "execution_count": 4,
   "metadata": {},
   "outputs": [],
   "source": [
    "# 设置格式器\n",
    "formatter = logging.Formatter(\"%(asctime)s  [%(levelname)s]  %(message)s\")"
   ]
  },
  {
   "cell_type": "code",
   "execution_count": 5,
   "metadata": {},
   "outputs": [],
   "source": [
    "# 创建终端输出\n",
    "stream_handler = logging.StreamHandler()\n",
    "stream_handler.setLevel(logging.DEBUG)\n",
    "stream_handler.setFormatter(formatter)\n",
    "\n",
    "logger.addHandler(stream_handler)"
   ]
  },
  {
   "cell_type": "code",
   "execution_count": 6,
   "metadata": {},
   "outputs": [
    {
     "name": "stderr",
     "output_type": "stream",
     "text": [
      "2020-10-02 11:07:29,305  [DEBUG]  测试DEBUG级别日志\n"
     ]
    }
   ],
   "source": [
    "logger.debug(\"测试DEBUG级别日志\")"
   ]
  },
  {
   "cell_type": "code",
   "execution_count": 7,
   "metadata": {},
   "outputs": [],
   "source": [
    "# 创建文件输出\n",
    "file_handler = logging.FileHandler(\"test.log\", mode=\"a\", encoding=\"utf8\")\n",
    "file_handler.setLevel(logging.INFO)\n",
    "file_handler.setFormatter(formatter)\n",
    "logger.addHandler(file_handler)"
   ]
  },
  {
   "cell_type": "code",
   "execution_count": 8,
   "metadata": {
    "scrolled": true
   },
   "outputs": [
    {
     "name": "stderr",
     "output_type": "stream",
     "text": [
      "2020-10-02 11:09:06,156  [DEBUG]  测试DEBUG级别日志\n",
      "2020-10-02 11:09:06,158  [INFO]  测试INFO级别日志\n",
      "2020-10-02 11:09:06,160  [WARNING]  测试WARNING级别日志\n",
      "2020-10-02 11:09:06,161  [ERROR]  测试ERROR级别日志\n",
      "2020-10-02 11:09:06,161  [CRITICAL]  测试CRITICAL级别日志\n"
     ]
    }
   ],
   "source": [
    "logger.debug(\"测试DEBUG级别日志\")\n",
    "logger.info(\"测试INFO级别日志\")\n",
    "logger.warning(\"测试WARNING级别日志\")\n",
    "logger.error(\"测试ERROR级别日志\")\n",
    "logger.critical(\"测试CRITICAL级别日志\")"
   ]
  },
  {
   "cell_type": "code",
   "execution_count": 9,
   "metadata": {},
   "outputs": [
    {
     "name": "stderr",
     "output_type": "stream",
     "text": [
      "2020-10-02 11:10:39,290  [INFO]  log函数测试\n"
     ]
    }
   ],
   "source": [
    "logger.log(logging.INFO, \"log函数测试\")"
   ]
  },
  {
   "cell_type": "code",
   "execution_count": null,
   "metadata": {},
   "outputs": [],
   "source": []
  }
 ],
 "metadata": {
  "kernelspec": {
   "display_name": "Python 3",
   "language": "python",
   "name": "python3"
  },
  "language_info": {
   "codemirror_mode": {
    "name": "ipython",
    "version": 3
   },
   "file_extension": ".py",
   "mimetype": "text/x-python",
   "name": "python",
   "nbconvert_exporter": "python",
   "pygments_lexer": "ipython3",
   "version": "3.7.1"
  }
 },
 "nbformat": 4,
 "nbformat_minor": 4
}
