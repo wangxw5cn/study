{
 "cells": [
  {
   "cell_type": "code",
   "execution_count": 7,
   "metadata": {},
   "outputs": [],
   "source": [
    "class TradeData:\n",
    "    symbol = \"\"\n",
    "    datetime = \"\"\n",
    "    direction = \"\"\n",
    "    price = 0.0\n",
    "    volume = 0.0\n",
    "    \n",
    "    def calculate_trading_value(self, size):\n",
    "        \"\"\"计算成交金额的对象方法\"\"\"\n",
    "        value = self.price * self.volume * size\n",
    "        return value"
   ]
  },
  {
   "cell_type": "code",
   "execution_count": 3,
   "metadata": {},
   "outputs": [],
   "source": [
    "trade = TradeData()\n",
    "trade.symbol = \"IF2010\"\n",
    "trade.datetime = \"20200915 13:15:03\"\n",
    "trade.diretion = \"买入\"\n",
    "trade.price = 4200\n",
    "trade.volume = 1"
   ]
  },
  {
   "cell_type": "code",
   "execution_count": 8,
   "metadata": {},
   "outputs": [],
   "source": [
    "trade2 = TradeData()\n",
    "trade2.symbol = \"IF2010\"\n",
    "trade2.datetime = \"20200915 13:15:03\"\n",
    "trade2.diretion = \"买入\"\n",
    "trade2.price = 4200\n",
    "trade2.volume = 1"
   ]
  },
  {
   "cell_type": "code",
   "execution_count": 4,
   "metadata": {},
   "outputs": [
    {
     "name": "stdout",
     "output_type": "stream",
     "text": [
      "1260000\n"
     ]
    }
   ],
   "source": [
    "# 直接计算\n",
    "trading_value = trade.price * trade.volume * 300\n",
    "print(trading_value)"
   ]
  },
  {
   "cell_type": "code",
   "execution_count": 5,
   "metadata": {},
   "outputs": [],
   "source": [
    "# 计算函数\n",
    "def calculate_trading_value(trade, size):\n",
    "    trading_value = trade.price * trade.volume * size\n",
    "    return trading_value"
   ]
  },
  {
   "cell_type": "code",
   "execution_count": 6,
   "metadata": {},
   "outputs": [
    {
     "name": "stdout",
     "output_type": "stream",
     "text": [
      "1260000\n"
     ]
    }
   ],
   "source": [
    "trading_value = calculate_trading_value(trade, 300)\n",
    "print(trading_value)"
   ]
  },
  {
   "cell_type": "code",
   "execution_count": 9,
   "metadata": {},
   "outputs": [
    {
     "name": "stdout",
     "output_type": "stream",
     "text": [
      "1260000\n"
     ]
    }
   ],
   "source": [
    "# 对象方法\n",
    "print(trade2.calculate_trading_value(300))"
   ]
  },
  {
   "cell_type": "code",
   "execution_count": 10,
   "metadata": {},
   "outputs": [
    {
     "name": "stdout",
     "output_type": "stream",
     "text": [
      "Help on method calculate_trading_value in module __main__:\n",
      "\n",
      "calculate_trading_value(size) method of __main__.TradeData instance\n",
      "    计算成交金额的对象方法\n",
      "\n"
     ]
    }
   ],
   "source": [
    "help(trade2.calculate_trading_value)"
   ]
  },
  {
   "cell_type": "code",
   "execution_count": 12,
   "metadata": {},
   "outputs": [
    {
     "data": {
      "text/plain": [
       "1260000"
      ]
     },
     "execution_count": 12,
     "metadata": {},
     "output_type": "execute_result"
    }
   ],
   "source": [
    "# 方法 vs 函数\n",
    "TradeData.calculate_trading_value(trade2, 300)"
   ]
  },
  {
   "cell_type": "code",
   "execution_count": 13,
   "metadata": {},
   "outputs": [],
   "source": [
    "# 成交信息打印\n",
    "class TradeData:\n",
    "    symbol = \"\"\n",
    "    datetime = \"\"\n",
    "    direction = \"\"\n",
    "    price = 0.0\n",
    "    volume = 0.0\n",
    "    \n",
    "    def calculate_trading_value(self, size):\n",
    "        \"\"\"计算成交金额的对象方法\"\"\"\n",
    "        value = self.price * self.volume * size\n",
    "        return value\n",
    "    \n",
    "    def to_str(self):\n",
    "        \"\"\"\"\"\"\n",
    "        text = f\"{self.datetime}：{self.direction} {self.symbol} {self.volume}手@{self.price}\"\n",
    "        return text"
   ]
  },
  {
   "cell_type": "code",
   "execution_count": 18,
   "metadata": {},
   "outputs": [
    {
     "name": "stdout",
     "output_type": "stream",
     "text": [
      "20200915 13:15:03： IF2010 0.0手@4200\n"
     ]
    }
   ],
   "source": [
    "trade3 = TradeData()\n",
    "trade3.symbol = \"IF2010\"\n",
    "trade3.datetime = \"20200915 13:15:03\"\n",
    "trade3.diretion = \"买入\"\n",
    "trade3.price = 4200\n",
    "trade3.volume = 1\n",
    "\n",
    "print(trade3.to_str())"
   ]
  },
  {
   "cell_type": "code",
   "execution_count": 17,
   "metadata": {},
   "outputs": [],
   "source": [
    "# 加上类型提示\n",
    "class TradeData:\n",
    "    symbol: str = \"\"\n",
    "    datetime: str = \"\"\n",
    "    direction: str = \"\"\n",
    "    price: float = 0.0\n",
    "    volume: float = 0.0\n",
    "    \n",
    "    def calculate_trading_value(self, size: int) -> float:\n",
    "        \"\"\"计算成交金额的对象方法\"\"\"\n",
    "        value = self.price * self.volume * size\n",
    "        return value\n",
    "    \n",
    "    def to_str(self) -> str:\n",
    "        \"\"\"\"\"\"\n",
    "        text = f\"{self.datetime}：{self.direction} {self.symbol} {self.volume}手@{self.price}\"\n",
    "        return text"
   ]
  },
  {
   "cell_type": "code",
   "execution_count": 20,
   "metadata": {},
   "outputs": [],
   "source": [
    "# 构造函数\n",
    "class TradeData:\n",
    "    symbol: str = \"\"\n",
    "    datetime: str = \"\"\n",
    "    direction: str = \"\"\n",
    "    price: float = 0.0\n",
    "    volume: float = 0.0\n",
    "        \n",
    "    def __init__(self, symbol: str, datetime: str, direction: str, price: float, volume: float):\n",
    "        self.symbol = symbol\n",
    "        self.datetime = datetime\n",
    "        self.direction = direction\n",
    "        self.price = price\n",
    "        self.volume = volume\n",
    "    \n",
    "    def calculate_trading_value(self, size: int) -> float:\n",
    "        \"\"\"计算成交金额的对象方法\"\"\"\n",
    "        value = self.price * self.volume * size\n",
    "        return value\n",
    "    \n",
    "    def to_str(self) -> str:\n",
    "        \"\"\"\"\"\"\n",
    "        text = f\"{self.datetime}：{self.direction} {self.symbol} {self.volume}手@{self.price}\"\n",
    "        return text"
   ]
  },
  {
   "cell_type": "code",
   "execution_count": 24,
   "metadata": {},
   "outputs": [
    {
     "ename": "TypeError",
     "evalue": "__init__() missing 1 required positional argument: 'volume'",
     "output_type": "error",
     "traceback": [
      "\u001b[1;31m---------------------------------------------------------------------------\u001b[0m",
      "\u001b[1;31mTypeError\u001b[0m                                 Traceback (most recent call last)",
      "\u001b[1;32m<ipython-input-24-9bc3039cbbb7>\u001b[0m in \u001b[0;36m<module>\u001b[1;34m\u001b[0m\n\u001b[1;32m----> 1\u001b[1;33m \u001b[0mtrade5\u001b[0m \u001b[1;33m=\u001b[0m \u001b[0mTradeData\u001b[0m\u001b[1;33m(\u001b[0m\u001b[1;34m\"IF2010\"\u001b[0m\u001b[1;33m,\u001b[0m \u001b[1;34m\"20200915 13:44:13\"\u001b[0m\u001b[1;33m,\u001b[0m \u001b[1;34m\"卖出\"\u001b[0m\u001b[1;33m,\u001b[0m \u001b[1;36m4300\u001b[0m\u001b[1;33m)\u001b[0m\u001b[1;33m\u001b[0m\u001b[1;33m\u001b[0m\u001b[0m\n\u001b[0m",
      "\u001b[1;31mTypeError\u001b[0m: __init__() missing 1 required positional argument: 'volume'"
     ]
    }
   ],
   "source": [
    "trade5 = TradeData(\"IF2010\", \"20200915 13:44:13\", \"卖出\", 4300, 1)"
   ]
  },
  {
   "cell_type": "code",
   "execution_count": 23,
   "metadata": {},
   "outputs": [
    {
     "name": "stdout",
     "output_type": "stream",
     "text": [
      "IF2010\n",
      "1\n"
     ]
    }
   ],
   "source": [
    "print(trade5.symbol)\n",
    "print(trade5.volume)"
   ]
  },
  {
   "cell_type": "code",
   "execution_count": null,
   "metadata": {},
   "outputs": [],
   "source": []
  }
 ],
 "metadata": {
  "kernelspec": {
   "display_name": "Python 3",
   "language": "python",
   "name": "python3"
  },
  "language_info": {
   "codemirror_mode": {
    "name": "ipython",
    "version": 3
   },
   "file_extension": ".py",
   "mimetype": "text/x-python",
   "name": "python",
   "nbconvert_exporter": "python",
   "pygments_lexer": "ipython3",
   "version": "3.7.1"
  }
 },
 "nbformat": 4,
 "nbformat_minor": 4
}
