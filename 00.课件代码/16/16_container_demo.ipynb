{
 "cells": [
  {
   "cell_type": "code",
   "execution_count": 1,
   "metadata": {},
   "outputs": [],
   "source": [
    "# 列表内放字典\n",
    "bars = []\n",
    "\n",
    "for i in range(1, 5):\n",
    "    bar = {\n",
    "        \"datetime\": f\"2020090{i}\",\n",
    "        \"open\": (100 + i) * 100,\n",
    "        \"high\": (100 + i) * 100,\n",
    "        \"low\": (100 + i) * 100,\n",
    "        \"close\": (100 + i) * 100,\n",
    "    }\n",
    "    bars.append(bar)"
   ]
  },
  {
   "cell_type": "code",
   "execution_count": 2,
   "metadata": {
    "scrolled": true
   },
   "outputs": [
    {
     "name": "stdout",
     "output_type": "stream",
     "text": [
      "[{'datetime': '20200901', 'open': 10100, 'high': 10100, 'low': 10100, 'close': 10100}, {'datetime': '20200902', 'open': 10200, 'high': 10200, 'low': 10200, 'close': 10200}, {'datetime': '20200903', 'open': 10300, 'high': 10300, 'low': 10300, 'close': 10300}, {'datetime': '20200904', 'open': 10400, 'high': 10400, 'low': 10400, 'close': 10400}]\n"
     ]
    }
   ],
   "source": [
    "print(bars)"
   ]
  },
  {
   "cell_type": "code",
   "execution_count": 3,
   "metadata": {},
   "outputs": [
    {
     "name": "stdout",
     "output_type": "stream",
     "text": [
      "{'datetime': '20200901', 'open': 10100, 'high': 10100, 'low': 10100, 'close': 10100}\n",
      "{'datetime': '20200902', 'open': 10200, 'high': 10200, 'low': 10200, 'close': 10200}\n",
      "{'datetime': '20200903', 'open': 10300, 'high': 10300, 'low': 10300, 'close': 10300}\n",
      "{'datetime': '20200904', 'open': 10400, 'high': 10400, 'low': 10400, 'close': 10400}\n"
     ]
    }
   ],
   "source": [
    "for bar in bars:\n",
    "    print(bar)"
   ]
  },
  {
   "cell_type": "code",
   "execution_count": 4,
   "metadata": {},
   "outputs": [],
   "source": [
    "last_bar = bars[-1]"
   ]
  },
  {
   "cell_type": "code",
   "execution_count": 5,
   "metadata": {},
   "outputs": [
    {
     "name": "stdout",
     "output_type": "stream",
     "text": [
      "{'datetime': '20200904', 'open': 10400, 'high': 10400, 'low': 10400, 'close': 10400}\n"
     ]
    }
   ],
   "source": [
    "print(last_bar)"
   ]
  },
  {
   "cell_type": "code",
   "execution_count": 6,
   "metadata": {},
   "outputs": [],
   "source": [
    "i = 5\n",
    "new_bar = {\n",
    "    \"datetime\": f\"2020090{i}\",\n",
    "    \"open\": (100 + i) * 100,\n",
    "    \"high\": (100 + i) * 100,\n",
    "    \"low\": (100 + i) * 100,\n",
    "    \"close\": (100 + i) * 100,\n",
    "}"
   ]
  },
  {
   "cell_type": "code",
   "execution_count": 7,
   "metadata": {},
   "outputs": [],
   "source": [
    "bars.pop(0)\n",
    "bars.append(new_bar)"
   ]
  },
  {
   "cell_type": "code",
   "execution_count": 8,
   "metadata": {},
   "outputs": [
    {
     "name": "stdout",
     "output_type": "stream",
     "text": [
      "{'datetime': '20200902', 'open': 10200, 'high': 10200, 'low': 10200, 'close': 10200}\n",
      "{'datetime': '20200903', 'open': 10300, 'high': 10300, 'low': 10300, 'close': 10300}\n",
      "{'datetime': '20200904', 'open': 10400, 'high': 10400, 'low': 10400, 'close': 10400}\n",
      "{'datetime': '20200905', 'open': 10500, 'high': 10500, 'low': 10500, 'close': 10500}\n"
     ]
    }
   ],
   "source": [
    "for bar in bars:\n",
    "    print(bar)"
   ]
  },
  {
   "cell_type": "code",
   "execution_count": 9,
   "metadata": {},
   "outputs": [],
   "source": [
    "# 创建一个字典嵌套集合\n",
    "active_orderids = {}\n",
    "strategy_name = \"demo_strategy\""
   ]
  },
  {
   "cell_type": "code",
   "execution_count": 10,
   "metadata": {},
   "outputs": [
    {
     "ename": "KeyError",
     "evalue": "'strategy_name'",
     "output_type": "error",
     "traceback": [
      "\u001b[1;31m---------------------------------------------------------------------------\u001b[0m",
      "\u001b[1;31mKeyError\u001b[0m                                  Traceback (most recent call last)",
      "\u001b[1;32m<ipython-input-10-38b0defe4783>\u001b[0m in \u001b[0;36m<module>\u001b[1;34m\u001b[0m\n\u001b[1;32m----> 1\u001b[1;33m \u001b[0mstrategy_orderids\u001b[0m \u001b[1;33m=\u001b[0m \u001b[0mactive_orderids\u001b[0m\u001b[1;33m[\u001b[0m\u001b[1;34m\"strategy_name\"\u001b[0m\u001b[1;33m]\u001b[0m\u001b[1;33m\u001b[0m\u001b[1;33m\u001b[0m\u001b[0m\n\u001b[0m",
      "\u001b[1;31mKeyError\u001b[0m: 'strategy_name'"
     ]
    }
   ],
   "source": [
    "strategy_orderids = active_orderids[\"strategy_name\"]"
   ]
  },
  {
   "cell_type": "code",
   "execution_count": 18,
   "metadata": {},
   "outputs": [],
   "source": [
    "# 注意事项\n",
    "d = {}\n",
    "l = [1, 2, 3]"
   ]
  },
  {
   "cell_type": "code",
   "execution_count": 14,
   "metadata": {},
   "outputs": [],
   "source": [
    "d[l] = 1"
   ]
  },
  {
   "cell_type": "code",
   "execution_count": 19,
   "metadata": {},
   "outputs": [
    {
     "ename": "TypeError",
     "evalue": "unhashable type: 'list'",
     "output_type": "error",
     "traceback": [
      "\u001b[1;31m---------------------------------------------------------------------------\u001b[0m",
      "\u001b[1;31mTypeError\u001b[0m                                 Traceback (most recent call last)",
      "\u001b[1;32m<ipython-input-19-f130c4266ef4>\u001b[0m in \u001b[0;36m<module>\u001b[1;34m\u001b[0m\n\u001b[0;32m      1\u001b[0m \u001b[0ms\u001b[0m \u001b[1;33m=\u001b[0m \u001b[0mset\u001b[0m\u001b[1;33m(\u001b[0m\u001b[1;33m)\u001b[0m\u001b[1;33m\u001b[0m\u001b[1;33m\u001b[0m\u001b[0m\n\u001b[1;32m----> 2\u001b[1;33m \u001b[0ms\u001b[0m\u001b[1;33m.\u001b[0m\u001b[0madd\u001b[0m\u001b[1;33m(\u001b[0m\u001b[0ml\u001b[0m\u001b[1;33m)\u001b[0m\u001b[1;33m\u001b[0m\u001b[1;33m\u001b[0m\u001b[0m\n\u001b[0m",
      "\u001b[1;31mTypeError\u001b[0m: unhashable type: 'list'"
     ]
    }
   ],
   "source": [
    "s = set()\n",
    "s.add(l)"
   ]
  },
  {
   "cell_type": "code",
   "execution_count": 20,
   "metadata": {},
   "outputs": [],
   "source": [
    "d[123] = l"
   ]
  },
  {
   "cell_type": "code",
   "execution_count": 21,
   "metadata": {},
   "outputs": [
    {
     "name": "stdout",
     "output_type": "stream",
     "text": [
      "(1, 2, 3)\n"
     ]
    }
   ],
   "source": [
    "tp = (1, 2, 3)\n",
    "print(tp)"
   ]
  },
  {
   "cell_type": "code",
   "execution_count": 23,
   "metadata": {},
   "outputs": [],
   "source": [
    "tp = (1, 2, l)"
   ]
  },
  {
   "cell_type": "code",
   "execution_count": 26,
   "metadata": {},
   "outputs": [
    {
     "name": "stdout",
     "output_type": "stream",
     "text": [
      "(1, 2, [1, 2, 3, 4])\n"
     ]
    }
   ],
   "source": [
    "print(tp)"
   ]
  },
  {
   "cell_type": "code",
   "execution_count": 25,
   "metadata": {},
   "outputs": [],
   "source": [
    "l.append(4)"
   ]
  },
  {
   "cell_type": "code",
   "execution_count": null,
   "metadata": {},
   "outputs": [],
   "source": []
  }
 ],
 "metadata": {
  "kernelspec": {
   "display_name": "Python 3",
   "language": "python",
   "name": "python3"
  },
  "language_info": {
   "codemirror_mode": {
    "name": "ipython",
    "version": 3
   },
   "file_extension": ".py",
   "mimetype": "text/x-python",
   "name": "python",
   "nbconvert_exporter": "python",
   "pygments_lexer": "ipython3",
   "version": "3.7.1"
  }
 },
 "nbformat": 4,
 "nbformat_minor": 4
}
