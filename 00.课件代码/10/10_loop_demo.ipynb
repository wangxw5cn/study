{
 "cells": [
  {
   "cell_type": "code",
   "execution_count": 1,
   "metadata": {},
   "outputs": [
    {
     "name": "stdout",
     "output_type": "stream",
     "text": [
      "5050\n"
     ]
    }
   ],
   "source": [
    "# 数学求和1到100\n",
    "result = 0\n",
    "\n",
    "for i in range(1, 101):\n",
    "    result += i\n",
    "\n",
    "print(result)"
   ]
  },
  {
   "cell_type": "code",
   "execution_count": 2,
   "metadata": {},
   "outputs": [
    {
     "data": {
      "text/plain": [
       "[1, 2, 3, 4, 5, 6, 7, 8, 9]"
      ]
     },
     "execution_count": 2,
     "metadata": {},
     "output_type": "execute_result"
    }
   ],
   "source": [
    "list(range(1, 10))"
   ]
  },
  {
   "cell_type": "code",
   "execution_count": 6,
   "metadata": {
    "scrolled": false
   },
   "outputs": [
    {
     "name": "stdout",
     "output_type": "stream",
     "text": [
      "142\n"
     ]
    }
   ],
   "source": [
    "# 5加到几能超过10000\n",
    "result = 5\n",
    "n = 6\n",
    "\n",
    "while result <= 10000:\n",
    "    result += n\n",
    "    # print(n, result)\n",
    "    \n",
    "    n += 1\n",
    "\n",
    "print(n)"
   ]
  },
  {
   "cell_type": "code",
   "execution_count": 7,
   "metadata": {},
   "outputs": [
    {
     "name": "stdout",
     "output_type": "stream",
     "text": [
      "2550\n"
     ]
    }
   ],
   "source": [
    "# continue中断\n",
    "result = 0\n",
    "\n",
    "for i in range(1, 101):\n",
    "    # if i % 2 != 0:\n",
    "    if i % 2:\n",
    "        continue\n",
    "\n",
    "    result += i\n",
    "\n",
    "print(result)"
   ]
  },
  {
   "cell_type": "code",
   "execution_count": 9,
   "metadata": {},
   "outputs": [
    {
     "name": "stdout",
     "output_type": "stream",
     "text": [
      "142\n"
     ]
    }
   ],
   "source": [
    "# break中断\n",
    "result = 5\n",
    "n = 6\n",
    "\n",
    "while True:\n",
    "    result += n\n",
    "    n += 1\n",
    "\n",
    "    if result >= 10000:\n",
    "        break\n",
    "\n",
    "print(n)"
   ]
  },
  {
   "cell_type": "code",
   "execution_count": null,
   "metadata": {},
   "outputs": [],
   "source": [
    "# 历史数据回测\n",
    "hisotry_data = []\n",
    "\n",
    "for data in history_data:\n",
    "    ma1 = calculate_ma(data, 5)\n",
    "    ma2 = calculate_ma(data, 20)\n",
    "    \n",
    "    if ma1 > ma2:\n",
    "        print(\"下一根K线持有多仓1手\")\n",
    "        record_position(data, 1)\n",
    "    else:\n",
    "        print(\"下一根K线持有空仓1手\")\n",
    "        record_position(data, -1)"
   ]
  }
 ],
 "metadata": {
  "kernelspec": {
   "display_name": "Python 3",
   "language": "python",
   "name": "python3"
  },
  "language_info": {
   "codemirror_mode": {
    "name": "ipython",
    "version": 3
   },
   "file_extension": ".py",
   "mimetype": "text/x-python",
   "name": "python",
   "nbconvert_exporter": "python",
   "pygments_lexer": "ipython3",
   "version": "3.7.1"
  }
 },
 "nbformat": 4,
 "nbformat_minor": 4
}
