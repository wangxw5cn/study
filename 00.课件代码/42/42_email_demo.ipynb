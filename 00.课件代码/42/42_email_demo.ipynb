{
 "cells": [
  {
   "cell_type": "code",
   "execution_count": 1,
   "metadata": {},
   "outputs": [],
   "source": [
    "import smtplib\n",
    "from email.message import EmailMessage\n",
    "from datetime import datetime"
   ]
  },
  {
   "cell_type": "code",
   "execution_count": 5,
   "metadata": {},
   "outputs": [],
   "source": [
    "msg = EmailMessage()\n",
    "msg[\"From\"] = \"vn_trader@qq.com\"\n",
    "msg[\"To\"] = \"vn_trader@qq.com\"\n",
    "msg[\"Subject\"] = \"测试邮件\"\n",
    "msg.set_content(f\"发送邮件时的本地时间为{datetime.now()}\")"
   ]
  },
  {
   "cell_type": "code",
   "execution_count": 6,
   "metadata": {},
   "outputs": [
    {
     "name": "stdout",
     "output_type": "stream",
     "text": [
      "From: vn_trader@qq.com\n",
      "To: vn_trader@qq.com\n",
      "Subject: 测试邮件\n",
      "Content-Type: text/plain; charset=\"utf-8\"\n",
      "Content-Transfer-Encoding: base64\n",
      "MIME-Version: 1.0\n",
      "\n",
      "5Y+R6YCB6YKu5Lu25pe255qE5pys5Zyw5pe26Ze05Li6MjAyMC0xMC0wMiAxMDoyNDoxNy4wNzA5\n",
      "NjEK\n",
      "\n"
     ]
    }
   ],
   "source": [
    "print(msg)"
   ]
  },
  {
   "cell_type": "code",
   "execution_count": 7,
   "metadata": {},
   "outputs": [],
   "source": [
    "with smtplib.SMTP_SSL(\"smtp.qq.com\", 465) as smtp:\n",
    "    smtp.login(\"vn_trader@qq.com\", \"lmhtwfuqbfdebfdf\")\n",
    "    smtp.send_message(msg)"
   ]
  },
  {
   "cell_type": "code",
   "execution_count": null,
   "metadata": {},
   "outputs": [],
   "source": []
  }
 ],
 "metadata": {
  "kernelspec": {
   "display_name": "Python 3",
   "language": "python",
   "name": "python3"
  },
  "language_info": {
   "codemirror_mode": {
    "name": "ipython",
    "version": 3
   },
   "file_extension": ".py",
   "mimetype": "text/x-python",
   "name": "python",
   "nbconvert_exporter": "python",
   "pygments_lexer": "ipython3",
   "version": "3.7.1"
  }
 },
 "nbformat": 4,
 "nbformat_minor": 4
}
