{
 "cells": [
  {
   "cell_type": "code",
   "execution_count": 1,
   "metadata": {},
   "outputs": [],
   "source": [
    "import json"
   ]
  },
  {
   "cell_type": "code",
   "execution_count": 2,
   "metadata": {},
   "outputs": [],
   "source": [
    "# 创建字典\n",
    "d = {\n",
    "    \"symbol\": \"rb2011\",\n",
    "    \"exchange\": \"SHFE\",\n",
    "    \"interval\": \"1m\",\n",
    "    \"close\": 3800\n",
    "}"
   ]
  },
  {
   "cell_type": "code",
   "execution_count": 3,
   "metadata": {},
   "outputs": [
    {
     "name": "stdout",
     "output_type": "stream",
     "text": [
      "<class 'dict'> {'symbol': 'rb2011', 'exchange': 'SHFE', 'interval': '1m', 'close': 3800}\n"
     ]
    }
   ],
   "source": [
    "print(type(d), d)"
   ]
  },
  {
   "cell_type": "code",
   "execution_count": 4,
   "metadata": {},
   "outputs": [
    {
     "name": "stdout",
     "output_type": "stream",
     "text": [
      "<class 'str'> {\"symbol\": \"rb2011\", \"exchange\": \"SHFE\", \"interval\": \"1m\", \"close\": 3800}\n"
     ]
    }
   ],
   "source": [
    "# 序列化\n",
    "data_str = json.dumps(d)\n",
    "print(type(data_str), data_str)"
   ]
  },
  {
   "cell_type": "code",
   "execution_count": 5,
   "metadata": {},
   "outputs": [],
   "source": [
    "# 写入文件\n",
    "with open(\"json_demo.txt\", \"w\") as f:\n",
    "    f.write(data_str)"
   ]
  },
  {
   "cell_type": "code",
   "execution_count": 6,
   "metadata": {},
   "outputs": [
    {
     "name": "stdout",
     "output_type": "stream",
     "text": [
      "{\"symbol\": \"rb2011\", \"exchange\": \"SHFE\", \"interval\": \"1m\", \"close\": 3800}\n",
      "<class 'dict'> {'symbol': 'rb2011', 'exchange': 'SHFE', 'interval': '1m', 'close': 3800}\n"
     ]
    }
   ],
   "source": [
    "# 读取文件，反序列化\n",
    "with open(\"json_demo.txt\") as f:\n",
    "    line = f.read()\n",
    "    print(line)\n",
    "    data = json.loads(line)\n",
    "    print(type(data), data)"
   ]
  },
  {
   "cell_type": "code",
   "execution_count": 7,
   "metadata": {},
   "outputs": [],
   "source": [
    "# 复杂结构\n",
    "temp = {\n",
    "    \"str\": \"hello\",\n",
    "    \"int\": 1,\n",
    "    \"float\": 0.51,\n",
    "    \"bool\": True,\n",
    "    \"dict\": {\n",
    "        \"demo\": \"test\"\n",
    "    },\n",
    "    \"list\": [1, 2, 3]\n",
    "}\n",
    "\n",
    "with open(\"json_demo2.txt\", \"w\") as f:\n",
    "    json.dump(temp, f, indent=4)"
   ]
  },
  {
   "cell_type": "code",
   "execution_count": 8,
   "metadata": {},
   "outputs": [
    {
     "name": "stdout",
     "output_type": "stream",
     "text": [
      "<class 'dict'> {'str': 'hello', 'int': 1, 'float': 0.51, 'bool': True, 'dict': {'demo': 'test'}, 'list': [1, 2, 3]}\n"
     ]
    }
   ],
   "source": [
    "with open(\"json_demo2.txt\") as f:\n",
    "    result = json.load(f)\n",
    "    print(type(result), result)"
   ]
  },
  {
   "cell_type": "code",
   "execution_count": null,
   "metadata": {},
   "outputs": [],
   "source": []
  }
 ],
 "metadata": {
  "kernelspec": {
   "display_name": "Python 3",
   "language": "python",
   "name": "python3"
  },
  "language_info": {
   "codemirror_mode": {
    "name": "ipython",
    "version": 3
   },
   "file_extension": ".py",
   "mimetype": "text/x-python",
   "name": "python",
   "nbconvert_exporter": "python",
   "pygments_lexer": "ipython3",
   "version": "3.7.1"
  }
 },
 "nbformat": 4,
 "nbformat_minor": 4
}
