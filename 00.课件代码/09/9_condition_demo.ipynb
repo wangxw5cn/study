{
 "cells": [
  {
   "cell_type": "code",
   "execution_count": 19,
   "metadata": {},
   "outputs": [],
   "source": [
    "ma1 = 3000       # 5日均线\n",
    "ma2 = 2900       # 10日均线\n",
    "rsi_value = 60   # RSI指标"
   ]
  },
  {
   "cell_type": "code",
   "execution_count": 7,
   "metadata": {},
   "outputs": [
    {
     "name": "stdout",
     "output_type": "stream",
     "text": [
      "均线处于多头趋势\n"
     ]
    }
   ],
   "source": [
    "if ma1 > ma2:\n",
    "    print(\"均线处于多头趋势\")"
   ]
  },
  {
   "cell_type": "code",
   "execution_count": 8,
   "metadata": {},
   "outputs": [
    {
     "data": {
      "text/plain": [
       "True"
      ]
     },
     "execution_count": 8,
     "metadata": {},
     "output_type": "execute_result"
    }
   ],
   "source": [
    "ma1 > ma2"
   ]
  },
  {
   "cell_type": "code",
   "execution_count": 13,
   "metadata": {},
   "outputs": [],
   "source": [
    "# 逻辑运算\n",
    "if ma1 > ma2 and rsi_value > 50:\n",
    "    print(\"均线和RSI都处于多头趋势\")"
   ]
  },
  {
   "cell_type": "code",
   "execution_count": 12,
   "metadata": {},
   "outputs": [
    {
     "name": "stdout",
     "output_type": "stream",
     "text": [
      "有一个指标处于多头趋势\n"
     ]
    }
   ],
   "source": [
    "if ma1 > ma2 or rsi_value > 50:\n",
    "    print(\"有一个指标处于多头趋势\")"
   ]
  },
  {
   "cell_type": "code",
   "execution_count": 14,
   "metadata": {},
   "outputs": [
    {
     "name": "stdout",
     "output_type": "stream",
     "text": [
      "均线处于空头趋势\n"
     ]
    }
   ],
   "source": [
    "if not ma1 > ma2:\n",
    "    print(\"均线处于空头趋势\")"
   ]
  },
  {
   "cell_type": "code",
   "execution_count": 15,
   "metadata": {},
   "outputs": [
    {
     "name": "stdout",
     "output_type": "stream",
     "text": [
      "True\n",
      "False\n",
      "False\n"
     ]
    }
   ],
   "source": [
    "print(True and True)\n",
    "print(True and False)\n",
    "print(False and False)"
   ]
  },
  {
   "cell_type": "code",
   "execution_count": 16,
   "metadata": {},
   "outputs": [
    {
     "name": "stdout",
     "output_type": "stream",
     "text": [
      "True\n",
      "True\n",
      "False\n"
     ]
    }
   ],
   "source": [
    "print(True or True)\n",
    "print(True or False)\n",
    "print(False or False)"
   ]
  },
  {
   "cell_type": "code",
   "execution_count": 17,
   "metadata": {},
   "outputs": [
    {
     "name": "stdout",
     "output_type": "stream",
     "text": [
      "False\n",
      "True\n"
     ]
    }
   ],
   "source": [
    "print(not True)\n",
    "print(not False)"
   ]
  },
  {
   "cell_type": "code",
   "execution_count": 20,
   "metadata": {},
   "outputs": [
    {
     "name": "stdout",
     "output_type": "stream",
     "text": [
      "均线处于多头趋势\n"
     ]
    }
   ],
   "source": [
    "# 分支语句\n",
    "if ma1 > ma2:\n",
    "    print(\"均线处于多头趋势\")\n",
    "else:\n",
    "    print(\"均线处于空头趋势\")"
   ]
  },
  {
   "cell_type": "code",
   "execution_count": 21,
   "metadata": {},
   "outputs": [
    {
     "name": "stdout",
     "output_type": "stream",
     "text": [
      "均线处于多头趋势\n"
     ]
    }
   ],
   "source": [
    "# 类比同样意思\n",
    "if ma1 > ma2:\n",
    "    print(\"均线处于多头趋势\")\n",
    "\n",
    "if not ma1 > ma2:\n",
    "    print(\"均线处于空头趋势\")"
   ]
  },
  {
   "cell_type": "code",
   "execution_count": 24,
   "metadata": {},
   "outputs": [],
   "source": [
    "rsi_value = 80   # RSI指标"
   ]
  },
  {
   "cell_type": "code",
   "execution_count": 25,
   "metadata": {},
   "outputs": [
    {
     "name": "stdout",
     "output_type": "stream",
     "text": [
      "RSI进入超买区\n"
     ]
    }
   ],
   "source": [
    "# 嵌套判断\n",
    "if rsi_value > 50:\n",
    "    if rsi_value >= 70:\n",
    "        print(\"RSI进入超买区\")\n",
    "    else:\n",
    "        print(\"RSI处于多头趋势\")\n",
    "else:\n",
    "    if rsi_value <= 30:\n",
    "        print(\"RSI进入超卖区\")\n",
    "    else:\n",
    "        print(\"RSI处于空头趋势\")"
   ]
  },
  {
   "cell_type": "code",
   "execution_count": 26,
   "metadata": {},
   "outputs": [
    {
     "name": "stdout",
     "output_type": "stream",
     "text": [
      "RSI进入超买区\n"
     ]
    }
   ],
   "source": [
    "if rsi_value >= 70:\n",
    "    print(\"RSI进入超买区\")\n",
    "elif rsi_value > 50:\n",
    "    print(\"RSI处于多头趋势\")\n",
    "elif rsi_value > 30:\n",
    "    print(\"RSI处于空头趋势\")\n",
    "else:\n",
    "    print(\"RSI进入超卖区\")"
   ]
  },
  {
   "cell_type": "code",
   "execution_count": null,
   "metadata": {},
   "outputs": [],
   "source": []
  }
 ],
 "metadata": {
  "kernelspec": {
   "display_name": "Python 3",
   "language": "python",
   "name": "python3"
  },
  "language_info": {
   "codemirror_mode": {
    "name": "ipython",
    "version": 3
   },
   "file_extension": ".py",
   "mimetype": "text/x-python",
   "name": "python",
   "nbconvert_exporter": "python",
   "pygments_lexer": "ipython3",
   "version": "3.7.1"
  }
 },
 "nbformat": 4,
 "nbformat_minor": 4
}
