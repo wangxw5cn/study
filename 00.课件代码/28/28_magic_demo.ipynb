{
 "cells": [
  {
   "cell_type": "code",
   "execution_count": 14,
   "metadata": {},
   "outputs": [],
   "source": [
    "# 成交信息\n",
    "class TradeData:\n",
    "    \n",
    "    def __init__(self):\n",
    "        self.symbol = \"\"\n",
    "        self.datetime = \"\"\n",
    "        self.direction = \"\"\n",
    "        self.price = 0.0\n",
    "        self.volume = 0.0\n",
    "    \n",
    "    def calculate_trading_value(self, size):\n",
    "        \"\"\"计算成交金额的对象方法\"\"\"\n",
    "        value = self.price * self.volume * size\n",
    "        return value\n",
    "    \n",
    "    def to_str(self):\n",
    "        \"\"\"\"\"\"\n",
    "        text = f\"{self.datetime}：{self.direction} {self.symbol} {self.volume}手@{self.price}\"\n",
    "        return text\n",
    "    \n",
    "    def __str__(self):\n",
    "        \"\"\"\"\"\"\n",
    "        return \"魔法方法的威力\" + self.to_str()"
   ]
  },
  {
   "cell_type": "code",
   "execution_count": 15,
   "metadata": {},
   "outputs": [
    {
     "name": "stdout",
     "output_type": "stream",
     "text": [
      "20200915 13:15:03： IF2010 1手@4200\n"
     ]
    }
   ],
   "source": [
    "trade = TradeData()\n",
    "trade.symbol = \"IF2010\"\n",
    "trade.datetime = \"20200915 13:15:03\"\n",
    "trade.diretion = \"买入\"\n",
    "trade.price = 4200\n",
    "trade.volume = 1\n",
    "\n",
    "print(trade.to_str())"
   ]
  },
  {
   "cell_type": "code",
   "execution_count": 16,
   "metadata": {},
   "outputs": [
    {
     "name": "stdout",
     "output_type": "stream",
     "text": [
      "魔法方法的威力20200915 13:15:03： IF2010 1手@4200\n"
     ]
    }
   ],
   "source": [
    "print(trade)"
   ]
  },
  {
   "cell_type": "code",
   "execution_count": 17,
   "metadata": {},
   "outputs": [
    {
     "data": {
      "text/plain": [
       "'魔法方法的威力20200915 13:15:03： IF2010 1手@4200'"
      ]
     },
     "execution_count": 17,
     "metadata": {},
     "output_type": "execute_result"
    }
   ],
   "source": [
    "str(trade)"
   ]
  },
  {
   "cell_type": "code",
   "execution_count": 18,
   "metadata": {},
   "outputs": [],
   "source": [
    "class Test:\n",
    "    \n",
    "    def __call__(self, a, b):\n",
    "        return a + b"
   ]
  },
  {
   "cell_type": "code",
   "execution_count": 19,
   "metadata": {},
   "outputs": [
    {
     "data": {
      "text/plain": [
       "7"
      ]
     },
     "execution_count": 19,
     "metadata": {},
     "output_type": "execute_result"
    }
   ],
   "source": [
    "t = Test()\n",
    "t(3, 4)"
   ]
  },
  {
   "cell_type": "code",
   "execution_count": null,
   "metadata": {},
   "outputs": [],
   "source": []
  }
 ],
 "metadata": {
  "kernelspec": {
   "display_name": "Python 3",
   "language": "python",
   "name": "python3"
  },
  "language_info": {
   "codemirror_mode": {
    "name": "ipython",
    "version": 3
   },
   "file_extension": ".py",
   "mimetype": "text/x-python",
   "name": "python",
   "nbconvert_exporter": "python",
   "pygments_lexer": "ipython3",
   "version": "3.7.1"
  }
 },
 "nbformat": 4,
 "nbformat_minor": 4
}
